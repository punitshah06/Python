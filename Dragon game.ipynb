{
 "cells": [
  {
   "cell_type": "code",
   "execution_count": null,
   "id": "22f39bf0",
   "metadata": {},
   "outputs": [
    {
     "name": "stdout",
     "output_type": "stream",
     "text": [
      "Welcome to dragon land, in order to proceed you have to take a chance by choosing a cave. If chosen a correct cave you will get treasure otherwise dragon will get some food\n",
      "you have to choose between 5 caves:Enter a number of cave in which you want to go\n",
      "2\n",
      "Congrats! you are a millionaire\n",
      "Do you want to play again? (yes or no)\n",
      "yes\n",
      "Welcome to dragon land, in order to proceed you have to take a chance by choosing a cave. If chosen a correct cave you will get treasure otherwise dragon will get some food\n",
      "you have to choose between 5 caves:Enter a number of cave in which you want to go\n",
      "1\n",
      "Congrats! you are a millionaire\n",
      "Do you want to play again? (yes or no)\n"
     ]
    }
   ],
   "source": [
    "import random\n",
    "import time\n",
    "\n",
    "def intro():\n",
    "    print('Welcome to dragon land, in order to proceed you have to take a chance by choosing a cave. If chosen a correct cave you will get treasure otherwise dragon will get some food')\n",
    "    \n",
    "def choosecave():\n",
    "    print('you have to choose between 5 caves:Enter a number of cave in which you want to go')\n",
    "    cave=input()\n",
    "    return cave\n",
    "\n",
    "def result(CaveNumber):\n",
    "    treasurecave=random.randint(1,2)\n",
    "    if CaveNumber != str(treasurecave):\n",
    "        print('Dragon had a great dinner')\n",
    "    else:\n",
    "        print('Congrats! you are a millionaire')\n",
    "        \n",
    "PlayAgain=\"yes\"\n",
    "while PlayAgain == \"yes\":\n",
    "    intro()\n",
    "    CaveNumber=choosecave()\n",
    "    result(CaveNumber)\n",
    "    \n",
    "    print ('Do you want to play again? (yes or no)')\n",
    "    PlayAgain = input()\n",
    "\n",
    "#we learned local vs global variable\n",
    "# how to contruct fuction with return\n",
    "# how to call a function\n",
    "\n",
    "    \n",
    "    "
   ]
  },
  {
   "cell_type": "code",
   "execution_count": null,
   "id": "87a99fee",
   "metadata": {},
   "outputs": [],
   "source": []
  },
  {
   "cell_type": "code",
   "execution_count": null,
   "id": "6a6fa8c6",
   "metadata": {},
   "outputs": [],
   "source": []
  },
  {
   "cell_type": "code",
   "execution_count": null,
   "id": "92be9945",
   "metadata": {},
   "outputs": [],
   "source": []
  }
 ],
 "metadata": {
  "kernelspec": {
   "display_name": "Python 3 (ipykernel)",
   "language": "python",
   "name": "python3"
  },
  "language_info": {
   "codemirror_mode": {
    "name": "ipython",
    "version": 3
   },
   "file_extension": ".py",
   "mimetype": "text/x-python",
   "name": "python",
   "nbconvert_exporter": "python",
   "pygments_lexer": "ipython3",
   "version": "3.9.7"
  }
 },
 "nbformat": 4,
 "nbformat_minor": 5
}
