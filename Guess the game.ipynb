{
 "cells": [
  {
   "cell_type": "code",
   "execution_count": 1,
   "id": "a297551d",
   "metadata": {},
   "outputs": [
    {
     "name": "stdout",
     "output_type": "stream",
     "text": [
      "Hello World\n",
      "punit\n",
      "Hello punit\n"
     ]
    }
   ],
   "source": [
    "print('Hello World')\n",
    "myName=input()\n",
    "print('Hello '+ myName)\n",
    "#comment is done by using #"
   ]
  },
  {
   "cell_type": "code",
   "execution_count": 8,
   "id": "b4dfdaed",
   "metadata": {},
   "outputs": [
    {
     "name": "stdout",
     "output_type": "stream",
     "text": [
      "what is your name\n",
      "joy\n",
      "joy please guess a number between 1 to 20\n",
      "Take a guess\n",
      "8\n",
      "Your guess is high\n",
      "Take a guess\n",
      "4\n",
      "Your guess is low\n",
      "Take a guess\n",
      "5\n",
      "Good Jobyou guesses it in 3 chance\n"
     ]
    }
   ],
   "source": [
    "# Tutorial on making a guessing game\n",
    "import random\n",
    "\n",
    "print('what is your name')\n",
    "PlayerName=input()\n",
    "number = random.randint(1,20)\n",
    "print(PlayerName + ' please guess a number between 1 to 20')\n",
    "\n",
    "for guessesTaken in range(3):\n",
    "    print('Take a guess')\n",
    "    guess=input()\n",
    "    guess=int(guess)\n",
    "    \n",
    "    if guess<number:\n",
    "        print('Your guess is low')\n",
    "        \n",
    "    if guess > number:\n",
    "        print('Your guess is high')\n",
    "        \n",
    "    if guess == number:\n",
    "        break\n",
    "if guess == number:\n",
    "    guessesTaken = str(guessesTaken + 1)\n",
    "    print('Good Job'+ 'you guesses it in ' + guessesTaken + ' chance')\n",
    "    \n",
    "if guess != number:\n",
    "    number = str(number)\n",
    "    print('Oops Try Again')\n",
    "\n"
   ]
  },
  {
   "cell_type": "code",
   "execution_count": null,
   "id": "e6344ff0",
   "metadata": {},
   "outputs": [],
   "source": [
    "#the difference between = (assignment operator) and == comparison operator"
   ]
  }
 ],
 "metadata": {
  "kernelspec": {
   "display_name": "Python 3 (ipykernel)",
   "language": "python",
   "name": "python3"
  },
  "language_info": {
   "codemirror_mode": {
    "name": "ipython",
    "version": 3
   },
   "file_extension": ".py",
   "mimetype": "text/x-python",
   "name": "python",
   "nbconvert_exporter": "python",
   "pygments_lexer": "ipython3",
   "version": "3.9.7"
  }
 },
 "nbformat": 4,
 "nbformat_minor": 5
}
